{
 "cells": [
  {
   "cell_type": "markdown",
   "id": "9e9a0b04",
   "metadata": {},
   "source": [
    "<strong style=\"color: #800020; font-size: 28px\"> \n",
    "\n",
    "Análisis de la ordenación de la tasa de descenso\n",
    "\n",
    "</strong>"
   ]
  },
  {
   "cell_type": "markdown",
   "id": "fb5f3d0e",
   "metadata": {},
   "source": [
    "En este notebook estaré desarrollando el análisis de la ordenación de la tasa de descenso por intervalo de score. \n",
    "\n",
    "El modelo principal será trabajado a través de gráfico de ordenación."
   ]
  },
  {
   "cell_type": "code",
   "execution_count": 244,
   "id": "b9dff172",
   "metadata": {},
   "outputs": [],
   "source": [
    "# Importación de las bibliotecas básicas\n",
    "import pandas as pd\n",
    "import numpy as np\n",
    "import warnings\n",
    "\n",
    "import matplotlib.pyplot as plt\n",
    "import seaborn as sns\n",
    "\n",
    "from pivottablejs import pivot_ui\n",
    "\n",
    "warnings.filterwarnings('ignore')"
   ]
  },
  {
   "cell_type": "code",
   "execution_count": 205,
   "id": "2dbc069e",
   "metadata": {},
   "outputs": [],
   "source": [
    "# Importación de la base de dato\n",
    "df = pd.read_csv('modelos_rebaixamento_futebol.csv')"
   ]
  },
  {
   "cell_type": "code",
   "execution_count": 206,
   "id": "51d0c828",
   "metadata": {},
   "outputs": [
    {
     "data": {
      "text/html": [
       "<div>\n",
       "<style scoped>\n",
       "    .dataframe tbody tr th:only-of-type {\n",
       "        vertical-align: middle;\n",
       "    }\n",
       "\n",
       "    .dataframe tbody tr th {\n",
       "        vertical-align: top;\n",
       "    }\n",
       "\n",
       "    .dataframe thead th {\n",
       "        text-align: right;\n",
       "    }\n",
       "</style>\n",
       "<table border=\"1\" class=\"dataframe\">\n",
       "  <thead>\n",
       "    <tr style=\"text-align: right;\">\n",
       "      <th></th>\n",
       "      <th>Unnamed: 0</th>\n",
       "      <th>Time</th>\n",
       "      <th>Pontos</th>\n",
       "      <th>Jogos</th>\n",
       "      <th>Vitorias</th>\n",
       "      <th>Empates</th>\n",
       "      <th>Derrotas</th>\n",
       "      <th>Gols Feitos</th>\n",
       "      <th>Gols Sofridos</th>\n",
       "      <th>Final</th>\n",
       "      <th>Campeão</th>\n",
       "      <th>Rebaixado</th>\n",
       "      <th>Ano</th>\n",
       "      <th>Id</th>\n",
       "      <th>screbgeral</th>\n",
       "      <th>screbstd</th>\n",
       "      <th>screbminmax</th>\n",
       "    </tr>\n",
       "  </thead>\n",
       "  <tbody>\n",
       "    <tr>\n",
       "      <th>0</th>\n",
       "      <td>0</td>\n",
       "      <td>Corinthians</td>\n",
       "      <td>59</td>\n",
       "      <td>31</td>\n",
       "      <td>17</td>\n",
       "      <td>8</td>\n",
       "      <td>6</td>\n",
       "      <td>40</td>\n",
       "      <td>21</td>\n",
       "      <td>1</td>\n",
       "      <td>1</td>\n",
       "      <td>0</td>\n",
       "      <td>2017</td>\n",
       "      <td>0</td>\n",
       "      <td>0.00</td>\n",
       "      <td>0.00</td>\n",
       "      <td>0.0</td>\n",
       "    </tr>\n",
       "    <tr>\n",
       "      <th>1</th>\n",
       "      <td>1</td>\n",
       "      <td>Palmeiras</td>\n",
       "      <td>54</td>\n",
       "      <td>31</td>\n",
       "      <td>16</td>\n",
       "      <td>6</td>\n",
       "      <td>9</td>\n",
       "      <td>48</td>\n",
       "      <td>33</td>\n",
       "      <td>2</td>\n",
       "      <td>0</td>\n",
       "      <td>0</td>\n",
       "      <td>2017</td>\n",
       "      <td>1</td>\n",
       "      <td>0.00</td>\n",
       "      <td>0.01</td>\n",
       "      <td>0.0</td>\n",
       "    </tr>\n",
       "    <tr>\n",
       "      <th>2</th>\n",
       "      <td>2</td>\n",
       "      <td>Santos</td>\n",
       "      <td>53</td>\n",
       "      <td>31</td>\n",
       "      <td>14</td>\n",
       "      <td>11</td>\n",
       "      <td>6</td>\n",
       "      <td>33</td>\n",
       "      <td>22</td>\n",
       "      <td>3</td>\n",
       "      <td>0</td>\n",
       "      <td>0</td>\n",
       "      <td>2017</td>\n",
       "      <td>2</td>\n",
       "      <td>0.00</td>\n",
       "      <td>0.03</td>\n",
       "      <td>0.0</td>\n",
       "    </tr>\n",
       "    <tr>\n",
       "      <th>3</th>\n",
       "      <td>3</td>\n",
       "      <td>Grêmio</td>\n",
       "      <td>51</td>\n",
       "      <td>31</td>\n",
       "      <td>15</td>\n",
       "      <td>6</td>\n",
       "      <td>10</td>\n",
       "      <td>45</td>\n",
       "      <td>28</td>\n",
       "      <td>4</td>\n",
       "      <td>0</td>\n",
       "      <td>0</td>\n",
       "      <td>2017</td>\n",
       "      <td>3</td>\n",
       "      <td>0.00</td>\n",
       "      <td>0.03</td>\n",
       "      <td>0.0</td>\n",
       "    </tr>\n",
       "    <tr>\n",
       "      <th>4</th>\n",
       "      <td>4</td>\n",
       "      <td>Cruzeiro</td>\n",
       "      <td>48</td>\n",
       "      <td>31</td>\n",
       "      <td>13</td>\n",
       "      <td>9</td>\n",
       "      <td>9</td>\n",
       "      <td>38</td>\n",
       "      <td>30</td>\n",
       "      <td>5</td>\n",
       "      <td>0</td>\n",
       "      <td>0</td>\n",
       "      <td>2017</td>\n",
       "      <td>4</td>\n",
       "      <td>0.03</td>\n",
       "      <td>0.15</td>\n",
       "      <td>0.0</td>\n",
       "    </tr>\n",
       "  </tbody>\n",
       "</table>\n",
       "</div>"
      ],
      "text/plain": [
       "   Unnamed: 0         Time  Pontos  Jogos  Vitorias  Empates  Derrotas  \\\n",
       "0           0  Corinthians      59     31        17        8         6   \n",
       "1           1    Palmeiras      54     31        16        6         9   \n",
       "2           2       Santos      53     31        14       11         6   \n",
       "3           3       Grêmio      51     31        15        6        10   \n",
       "4           4     Cruzeiro      48     31        13        9         9   \n",
       "\n",
       "   Gols Feitos  Gols Sofridos  Final  Campeão  Rebaixado   Ano  Id  \\\n",
       "0           40             21      1        1          0  2017   0   \n",
       "1           48             33      2        0          0  2017   1   \n",
       "2           33             22      3        0          0  2017   2   \n",
       "3           45             28      4        0          0  2017   3   \n",
       "4           38             30      5        0          0  2017   4   \n",
       "\n",
       "   screbgeral  screbstd  screbminmax  \n",
       "0        0.00      0.00          0.0  \n",
       "1        0.00      0.01          0.0  \n",
       "2        0.00      0.03          0.0  \n",
       "3        0.00      0.03          0.0  \n",
       "4        0.03      0.15          0.0  "
      ]
     },
     "execution_count": 206,
     "metadata": {},
     "output_type": "execute_result"
    }
   ],
   "source": [
    "# Visualización de la base\n",
    "df.head()"
   ]
  },
  {
   "cell_type": "code",
   "execution_count": 207,
   "id": "1d2a8c5c",
   "metadata": {},
   "outputs": [
    {
     "data": {
      "text/plain": [
       "Unnamed: 0       0\n",
       "Time             0\n",
       "Pontos           0\n",
       "Jogos            0\n",
       "Vitorias         0\n",
       "Empates          0\n",
       "Derrotas         0\n",
       "Gols Feitos      0\n",
       "Gols Sofridos    0\n",
       "Final            0\n",
       "Campeão          0\n",
       "Rebaixado        0\n",
       "Ano              0\n",
       "Id               0\n",
       "screbgeral       0\n",
       "screbstd         0\n",
       "screbminmax      0\n",
       "dtype: int64"
      ]
     },
     "execution_count": 207,
     "metadata": {},
     "output_type": "execute_result"
    }
   ],
   "source": [
    "# Comprensión de la ausencia de valores\n",
    "df.isnull().sum()"
   ]
  },
  {
   "cell_type": "markdown",
   "id": "09143969",
   "metadata": {},
   "source": [
    "### Conclusión:\n",
    "\n",
    "No hay ningún valor ausente."
   ]
  },
  {
   "cell_type": "code",
   "execution_count": 211,
   "id": "032f2fce",
   "metadata": {},
   "outputs": [],
   "source": [
    "# Definiendo intervalos homogéneos para los modelos de score\n",
    "df['fx_screbgeral'] = pd.qcut(df['screbgeral'], q=4, precision=2) # Modelo general\n",
    "df['fx_screbstd'] = pd.qcut(df['screbstd'], q=8, precision=2)     # Modelo con scaling - Estandarización\n",
    "df['fx_screbminmax'] = pd.qcut(df['screbminmax'].round(2), q=2, precision=2) # Modelo con scaling - Normalización"
   ]
  },
  {
   "cell_type": "code",
   "execution_count": 212,
   "id": "40dc62fa",
   "metadata": {},
   "outputs": [
    {
     "data": {
      "text/plain": [
       "fx_screbgeral\n",
       "(-0.01, 0.018]    35\n",
       "(0.018, 1.44]     35\n",
       "(1.44, 31.4]      35\n",
       "(31.4, 99.99]     35\n",
       "Name: count, dtype: int64"
      ]
     },
     "execution_count": 212,
     "metadata": {},
     "output_type": "execute_result"
    }
   ],
   "source": [
    "# Comprendiedo la frecuencia por intervalos de score - Score General\n",
    "df['fx_screbgeral'].value_counts()"
   ]
  },
  {
   "cell_type": "code",
   "execution_count": 213,
   "id": "14f4b394",
   "metadata": {},
   "outputs": [
    {
     "data": {
      "text/plain": [
       "fx_screbstd\n",
       "(-0.01, 0.01]     22\n",
       "(0.1, 0.61]       18\n",
       "(7.44, 27.2]      18\n",
       "(60.02, 99.85]    18\n",
       "(0.61, 2.42]      17\n",
       "(2.42, 7.44]      17\n",
       "(27.2, 60.02]     17\n",
       "(0.01, 0.1]       13\n",
       "Name: count, dtype: int64"
      ]
     },
     "execution_count": 213,
     "metadata": {},
     "output_type": "execute_result"
    }
   ],
   "source": [
    "# Comprendiedo la frecuencia por intervalos de score - Score Standard Scaler\n",
    "df['fx_screbstd'].value_counts()"
   ]
  },
  {
   "cell_type": "code",
   "execution_count": 214,
   "id": "292c09e7",
   "metadata": {},
   "outputs": [
    {
     "data": {
      "text/plain": [
       "fx_screbminmax\n",
       "(-0.01, 0.04]    71\n",
       "(0.04, 100.0]    69\n",
       "Name: count, dtype: int64"
      ]
     },
     "execution_count": 214,
     "metadata": {},
     "output_type": "execute_result"
    }
   ],
   "source": [
    "# Comprendiedo la frecuencia por intervalos de score - Score MinMax Scaler\n",
    "df['fx_screbminmax'].value_counts()"
   ]
  },
  {
   "cell_type": "code",
   "execution_count": 215,
   "id": "353f8e56",
   "metadata": {},
   "outputs": [],
   "source": [
    "# Convirtiendo los intervalos de score en cadenas de texto (string)\n",
    "df['fx_screbstd'] = df['fx_screbstd'].apply(lambda x: f\"{x.left} a {x.right}\")\n",
    "df['fx_screbgeral'] = df['fx_screbgeral'].apply(lambda x: f\"{x.left} a {x.right}\")"
   ]
  },
  {
   "cell_type": "code",
   "execution_count": 216,
   "id": "b18ca0c5",
   "metadata": {},
   "outputs": [],
   "source": [
    "# Eliminando valores negativos y fijando el cero como límite mínimo\n",
    "df['fx_screbstd'] = df['fx_screbstd'].astype(str) # Convirtiendo en string\n",
    "df.loc[df['fx_screbstd'] == '-0.01 a 0.01', 'fx_screbstd'] = '0 a 0.01' # Cambiando valores"
   ]
  },
  {
   "cell_type": "code",
   "execution_count": 217,
   "id": "26c6adfd",
   "metadata": {},
   "outputs": [
    {
     "data": {
      "text/plain": [
       "fx_screbstd\n",
       "0 a 0.01         0.000000\n",
       "0.01 a 0.1       0.000000\n",
       "0.1 a 0.61       0.000000\n",
       "0.61 a 2.42      0.000000\n",
       "2.42 a 7.44      0.000000\n",
       "27.2 a 60.02     0.411765\n",
       "60.02 a 99.85    0.944444\n",
       "7.44 a 27.2      0.222222\n",
       "Name: Rebaixado, dtype: float64"
      ]
     },
     "execution_count": 217,
     "metadata": {},
     "output_type": "execute_result"
    }
   ],
   "source": [
    "# Resultado con visualización con tasa de descenso\n",
    "df.groupby('fx_screbstd')['Rebaixado'].sum()/df.groupby('fx_screbstd')['Rebaixado'].count()"
   ]
  },
  {
   "cell_type": "code",
   "execution_count": 218,
   "id": "dac4df83",
   "metadata": {},
   "outputs": [
    {
     "data": {
      "text/plain": [
       "fx_screbgeral\n",
       "-0.01 a 0.018    0.000000\n",
       "0.018 a 1.44     0.000000\n",
       "1.44 a 31.4      0.114286\n",
       "31.4 a 99.99     0.685714\n",
       "Name: Rebaixado, dtype: float64"
      ]
     },
     "execution_count": 218,
     "metadata": {},
     "output_type": "execute_result"
    }
   ],
   "source": [
    "# Observando la tasa de descenso por intervalos de punjante del modelo general\n",
    "df.groupby('fx_screbgeral')['Rebaixado'].sum()/df.groupby('fx_screbgeral')['Rebaixado'].count()"
   ]
  },
  {
   "cell_type": "code",
   "execution_count": 219,
   "id": "6c2469a8",
   "metadata": {},
   "outputs": [],
   "source": [
    "# Creando un dataframe con el volumen de descendidos por intervalos de score homogéneos - Standard Scaler\n",
    "rebaixado_df = pd.DataFrame(df.groupby('fx_screbstd')['Rebaixado'].sum()).reset_index()"
   ]
  },
  {
   "cell_type": "code",
   "execution_count": 220,
   "id": "90c155a7",
   "metadata": {},
   "outputs": [],
   "source": [
    "# Creando un dataframe con el volumen total de la base por intervalos de score homogéneos - Standard Scaler\n",
    "total_df = pd.DataFrame(df.groupby('fx_screbstd')['Rebaixado'].count()).reset_index().rename(columns={'Rebaixado':'Total'})"
   ]
  },
  {
   "cell_type": "code",
   "execution_count": 221,
   "id": "8e2e01e4",
   "metadata": {},
   "outputs": [],
   "source": [
    "# Unificación de las bases de volumen de descendidos y de total\n",
    "pre_calculada = rebaixado_df.merge(total_df[['fx_screbstd', 'Total']], on='fx_screbstd')\n",
    "\n",
    "# Calculando la tasa de descendidos\n",
    "pre_calculada['Tasa Descenso'] = pre_calculada.Rebaixado/pre_calculada.Total"
   ]
  },
  {
   "cell_type": "code",
   "execution_count": 222,
   "id": "c1d6a4cf",
   "metadata": {},
   "outputs": [],
   "source": [
    "# Ordenación de los datos\n",
    "pre_calculada = pre_calculada.sort_values(by='Tasa Descenso', ascending=True)"
   ]
  },
  {
   "cell_type": "code",
   "execution_count": 223,
   "id": "9f14bf75",
   "metadata": {},
   "outputs": [
    {
     "data": {
      "image/png": "[encoded data removed]",
      "text/plain": [
       "<Figure size 864x288 with 2 Axes>"
      ]
     },
     "metadata": {
      "needs_background": "light"
     },
     "output_type": "display_data"
    }
   ],
   "source": [
    "# Definición de la dimensión del gráfico\n",
    "fig, ax1 = plt.subplots(figsize=(12, 4))\n",
    "\n",
    "# Gráfico de barras (Total)\n",
    "barras = ax1.bar(pre_calculada['fx_screbstd'], pre_calculada['Total'], color='#d3d3d3', label='Total')\n",
    "\n",
    "# Ajustando el límite del eje Y del Total\n",
    "ax1.set_ylim(0, 70)  # Límite ajustable\n",
    "ax1.set_xlabel('Intervalos (fx_screbstd)',  fontsize=14, color='gray')\n",
    "# ax1.set_ylabel('Total', color='blue')\n",
    "ax1.tick_params(axis='y', labelcolor='blue', labelleft=False, colors='gray')  # Elimina los valores del eje Y primario\n",
    "\n",
    "# Configuración de los límites del gráfico\n",
    "ax1.spines['top'].set_color('#F0F0F0')\n",
    "ax1.spines['right'].set_color('#F0F0F0')\n",
    "ax1.spines['left'].set_color('#F0F0F0')\n",
    "ax1.spines['bottom'].set_color('#F0F0F0')\n",
    "\n",
    "# Eliminación de los valores del eje y\n",
    "ax1.set_yticks([])\n",
    "\n",
    "# Mostrando los valores del Total en las barras\n",
    "for bar in barras:\n",
    "    yval = bar.get_height()\n",
    "    ax1.text(bar.get_x() + bar.get_width() / 2, yval + 1,  # Posición del texto\n",
    "             f'{yval}', ha='center', va='bottom',  # Alineación en el centro y en la parte superior de la barra\n",
    "             fontsize=16, fontweight='bold', color='grey')  # Personaliza el estilo del texto\n",
    "\n",
    "# Gráfico de línea (Tasa de Descenso)\n",
    "ax2 = ax1.twinx()\n",
    "ax2.plot(pre_calculada['fx_screbstd'], pre_calculada['Tasa Descenso'], color='#800000', marker='o', label='Tasa de Descenso')\n",
    "\n",
    "# Ajustando el límite del eje Y de la Tasa de Descenso\n",
    "ax2.set_ylim(0, 1.2)  # Límite ajustable\n",
    "ax2.set_xlabel('Intervalos (fx_screbstd)',  fontsize=14, color='gray')\n",
    "ax2.tick_params(axis='y', labelcolor='#800000', labelright=False, colors='gray') \n",
    "\n",
    "# Configuración de los límites del gráfico\n",
    "ax2.spines['top'].set_color('#F0F0F0')\n",
    "ax2.spines['right'].set_color('#F0F0F0')\n",
    "ax2.spines['left'].set_color('#F0F0F0')\n",
    "ax2.spines['bottom'].set_color('#F0F0F0')\n",
    "\n",
    "# Eliminación de los valores del eje y\n",
    "ax2.set_yticks([])\n",
    "\n",
    "# Añadiendo los valores de la Tasa de Descenso en el gráfico\n",
    "for i, valor in enumerate(pre_calculada['Tasa Descenso']):\n",
    "    ax2.annotate(f\"{valor:.2f}\",  # Formato de los valores (2 decimales)\n",
    "                 (i, valor),      # Coordenadas del punto\n",
    "                 textcoords=\"offset points\",  # Base para el desplazamiento\n",
    "                 xytext=(0, 10),  # Desplazamiento vertical\n",
    "                 ha='center',    # Alineación horizontal\n",
    "                 color='red',    # Color del texto\n",
    "                 fontsize=16,    # Tamaño de la fuente del texto\n",
    "                 fontweight='bold')  # Negrita para los valores\n",
    "\n",
    "# Títulos y leyendas\n",
    "plt.title('Total vs. Tasa de Descenso', fontsize=16, color='gray')\n",
    "fig.tight_layout()\n",
    "ax1.legend(loc='upper left')\n",
    "ax2.legend(loc='upper right')\n",
    "\n",
    "# Mostrar el gráfico\n",
    "plt.show()"
   ]
  },
  {
   "cell_type": "markdown",
   "id": "c07428d2",
   "metadata": {},
   "source": [
    "### Conclusión:\n",
    "\n",
    "La tasa de descenso está ordenada por los intervalos, de modo que cuanto mayor es el intervalo, mayor es la tasa, lo que indica que el modelo desempeñándose bien."
   ]
  },
  {
   "cell_type": "markdown",
   "id": "9996138a",
   "metadata": {},
   "source": [
    "<strong style=\"color: #FF8C00; font-size: 28px\"> \n",
    "\n",
    "Probabilidad de Descenso a la segunda división del Brasileirão 2024\n",
    "\n",
    "</strong>\n"
   ]
  },
  {
   "cell_type": "code",
   "execution_count": 239,
   "id": "db0ce0d9",
   "metadata": {},
   "outputs": [],
   "source": [
    "# Importación de la base de dato con probabilidad de los equipos en calir a la segunda división\n",
    "tabela_2024 = pd.read_csv('scores_2024_brasileirao.csv').iloc[:,1:]"
   ]
  },
  {
   "cell_type": "code",
   "execution_count": 240,
   "id": "9190ea49",
   "metadata": {},
   "outputs": [
    {
     "data": {
      "text/html": [
       "<div>\n",
       "<style scoped>\n",
       "    .dataframe tbody tr th:only-of-type {\n",
       "        vertical-align: middle;\n",
       "    }\n",
       "\n",
       "    .dataframe tbody tr th {\n",
       "        vertical-align: top;\n",
       "    }\n",
       "\n",
       "    .dataframe thead th {\n",
       "        text-align: right;\n",
       "    }\n",
       "</style>\n",
       "<table border=\"1\" class=\"dataframe\">\n",
       "  <thead>\n",
       "    <tr style=\"text-align: right;\">\n",
       "      <th></th>\n",
       "      <th>Posição</th>\n",
       "      <th>Time</th>\n",
       "      <th>Pontos</th>\n",
       "      <th>Jogos</th>\n",
       "      <th>Vitórias</th>\n",
       "      <th>Empates</th>\n",
       "      <th>Derrotas</th>\n",
       "      <th>Gols Marcados</th>\n",
       "      <th>Gols Sofridos</th>\n",
       "      <th>screbgeral</th>\n",
       "      <th>screbstd</th>\n",
       "      <th>screbminmax</th>\n",
       "    </tr>\n",
       "  </thead>\n",
       "  <tbody>\n",
       "    <tr>\n",
       "      <th>0</th>\n",
       "      <td>1</td>\n",
       "      <td>Botafogo</td>\n",
       "      <td>64</td>\n",
       "      <td>31</td>\n",
       "      <td>19</td>\n",
       "      <td>7</td>\n",
       "      <td>5</td>\n",
       "      <td>49</td>\n",
       "      <td>26</td>\n",
       "      <td>0.00</td>\n",
       "      <td>0.00</td>\n",
       "      <td>0.0</td>\n",
       "    </tr>\n",
       "    <tr>\n",
       "      <th>1</th>\n",
       "      <td>2</td>\n",
       "      <td>Palmeiras</td>\n",
       "      <td>61</td>\n",
       "      <td>31</td>\n",
       "      <td>18</td>\n",
       "      <td>7</td>\n",
       "      <td>6</td>\n",
       "      <td>53</td>\n",
       "      <td>25</td>\n",
       "      <td>0.00</td>\n",
       "      <td>0.01</td>\n",
       "      <td>0.0</td>\n",
       "    </tr>\n",
       "    <tr>\n",
       "      <th>2</th>\n",
       "      <td>3</td>\n",
       "      <td>Fortaleza</td>\n",
       "      <td>57</td>\n",
       "      <td>31</td>\n",
       "      <td>16</td>\n",
       "      <td>9</td>\n",
       "      <td>6</td>\n",
       "      <td>41</td>\n",
       "      <td>32</td>\n",
       "      <td>0.00</td>\n",
       "      <td>0.01</td>\n",
       "      <td>0.0</td>\n",
       "    </tr>\n",
       "    <tr>\n",
       "      <th>3</th>\n",
       "      <td>4</td>\n",
       "      <td>Flamengo</td>\n",
       "      <td>55</td>\n",
       "      <td>31</td>\n",
       "      <td>16</td>\n",
       "      <td>7</td>\n",
       "      <td>8</td>\n",
       "      <td>50</td>\n",
       "      <td>37</td>\n",
       "      <td>0.00</td>\n",
       "      <td>0.01</td>\n",
       "      <td>0.0</td>\n",
       "    </tr>\n",
       "    <tr>\n",
       "      <th>4</th>\n",
       "      <td>5</td>\n",
       "      <td>Internacional</td>\n",
       "      <td>53</td>\n",
       "      <td>31</td>\n",
       "      <td>14</td>\n",
       "      <td>11</td>\n",
       "      <td>6</td>\n",
       "      <td>42</td>\n",
       "      <td>28</td>\n",
       "      <td>0.01</td>\n",
       "      <td>0.10</td>\n",
       "      <td>0.0</td>\n",
       "    </tr>\n",
       "  </tbody>\n",
       "</table>\n",
       "</div>"
      ],
      "text/plain": [
       "   Posição           Time  Pontos  Jogos  Vitórias  Empates  Derrotas  \\\n",
       "0        1       Botafogo      64     31        19        7         5   \n",
       "1        2      Palmeiras      61     31        18        7         6   \n",
       "2        3      Fortaleza      57     31        16        9         6   \n",
       "3        4       Flamengo      55     31        16        7         8   \n",
       "4        5  Internacional      53     31        14       11         6   \n",
       "\n",
       "   Gols Marcados  Gols Sofridos  screbgeral  screbstd  screbminmax  \n",
       "0             49             26        0.00      0.00          0.0  \n",
       "1             53             25        0.00      0.01          0.0  \n",
       "2             41             32        0.00      0.01          0.0  \n",
       "3             50             37        0.00      0.01          0.0  \n",
       "4             42             28        0.01      0.10          0.0  "
      ]
     },
     "execution_count": 240,
     "metadata": {},
     "output_type": "execute_result"
    }
   ],
   "source": [
    "# Visualizando la base importada\n",
    "tabela_2024.head()"
   ]
  },
  {
   "cell_type": "code",
   "execution_count": 246,
   "id": "421fa1aa",
   "metadata": {},
   "outputs": [
    {
     "data": {
      "text/plain": [
       "(20, 12)"
      ]
     },
     "execution_count": 246,
     "metadata": {},
     "output_type": "execute_result"
    }
   ],
   "source": [
    "# Dimensión\n",
    "tabela_2024.shape"
   ]
  },
  {
   "cell_type": "code",
   "execution_count": 250,
   "id": "57963f95",
   "metadata": {},
   "outputs": [
    {
     "data": {
      "text/plain": [
       "Posição          0\n",
       "Time             0\n",
       "Pontos           0\n",
       "Jogos            0\n",
       "Vitórias         0\n",
       "Empates          0\n",
       "Derrotas         0\n",
       "Gols Marcados    0\n",
       "Gols Sofridos    0\n",
       "screbgeral       0\n",
       "screbstd         0\n",
       "screbminmax      0\n",
       "dtype: int64"
      ]
     },
     "execution_count": 250,
     "metadata": {},
     "output_type": "execute_result"
    }
   ],
   "source": [
    "# Analisando ausencia de valores\n",
    "tabela_2024.isnull().sum()"
   ]
  },
  {
   "cell_type": "code",
   "execution_count": 264,
   "id": "c097e76e",
   "metadata": {
    "scrolled": false
   },
   "outputs": [],
   "source": [
    "# Definiendo intervalos homogéneos para los modelos de score\n",
    "tabela_2024['fx_screbstd'] = pd.qcut(tabela_2024['screbstd'], q=10, precision=2) # Modelo general"
   ]
  },
  {
   "cell_type": "code",
   "execution_count": 265,
   "id": "4259085d",
   "metadata": {},
   "outputs": [],
   "source": [
    "# Convirtiendo los intervalos de score en cadenas de texto (string)\n",
    "tabela_2024['fx_screbstd'] = tabela_2024['fx_screbstd'].apply(lambda x: f\"{x.left} a {x.right}\")"
   ]
  },
  {
   "cell_type": "code",
   "execution_count": 266,
   "id": "75138ccf",
   "metadata": {},
   "outputs": [],
   "source": [
    "# Eliminando valores negativos y fijando el cero como límite mínimo\n",
    "tabela_2024['fx_screbstd'] = tabela_2024['fx_screbstd'].astype(str) # Convirtiendo en string\n",
    "tabela_2024.loc[tabela_2024['fx_screbstd'] == '-0.01 a 0.01', 'fx_screbstd'] = '0 a 0.01' # Cambiando valores"
   ]
  },
  {
   "cell_type": "code",
   "execution_count": 269,
   "id": "9f0c4c46",
   "metadata": {},
   "outputs": [
    {
     "data": {
      "text/html": [
       "<div>\n",
       "<style scoped>\n",
       "    .dataframe tbody tr th:only-of-type {\n",
       "        vertical-align: middle;\n",
       "    }\n",
       "\n",
       "    .dataframe tbody tr th {\n",
       "        vertical-align: top;\n",
       "    }\n",
       "\n",
       "    .dataframe thead th {\n",
       "        text-align: right;\n",
       "    }\n",
       "</style>\n",
       "<table border=\"1\" class=\"dataframe\">\n",
       "  <thead>\n",
       "    <tr style=\"text-align: right;\">\n",
       "      <th></th>\n",
       "      <th>Time</th>\n",
       "      <th>Prob.</th>\n",
       "    </tr>\n",
       "  </thead>\n",
       "  <tbody>\n",
       "    <tr>\n",
       "      <th>0</th>\n",
       "      <td>Botafogo</td>\n",
       "      <td>0.00</td>\n",
       "    </tr>\n",
       "    <tr>\n",
       "      <th>1</th>\n",
       "      <td>Palmeiras</td>\n",
       "      <td>0.01</td>\n",
       "    </tr>\n",
       "    <tr>\n",
       "      <th>2</th>\n",
       "      <td>Fortaleza</td>\n",
       "      <td>0.01</td>\n",
       "    </tr>\n",
       "    <tr>\n",
       "      <th>3</th>\n",
       "      <td>Flamengo</td>\n",
       "      <td>0.01</td>\n",
       "    </tr>\n",
       "    <tr>\n",
       "      <th>4</th>\n",
       "      <td>Internacional</td>\n",
       "      <td>0.10</td>\n",
       "    </tr>\n",
       "    <tr>\n",
       "      <th>5</th>\n",
       "      <td>São Paulo</td>\n",
       "      <td>0.15</td>\n",
       "    </tr>\n",
       "    <tr>\n",
       "      <th>6</th>\n",
       "      <td>Bahia</td>\n",
       "      <td>0.29</td>\n",
       "    </tr>\n",
       "    <tr>\n",
       "      <th>7</th>\n",
       "      <td>Cruzeiro</td>\n",
       "      <td>0.32</td>\n",
       "    </tr>\n",
       "    <tr>\n",
       "      <th>8</th>\n",
       "      <td>Vasco</td>\n",
       "      <td>1.11</td>\n",
       "    </tr>\n",
       "    <tr>\n",
       "      <th>9</th>\n",
       "      <td>Atlético Mineiro</td>\n",
       "      <td>1.07</td>\n",
       "    </tr>\n",
       "    <tr>\n",
       "      <th>10</th>\n",
       "      <td>Grêmio</td>\n",
       "      <td>1.92</td>\n",
       "    </tr>\n",
       "    <tr>\n",
       "      <th>11</th>\n",
       "      <td>Criciúma</td>\n",
       "      <td>1.16</td>\n",
       "    </tr>\n",
       "    <tr>\n",
       "      <th>12</th>\n",
       "      <td>Fluminense</td>\n",
       "      <td>7.79</td>\n",
       "    </tr>\n",
       "    <tr>\n",
       "      <th>13</th>\n",
       "      <td>Vitória</td>\n",
       "      <td>14.63</td>\n",
       "    </tr>\n",
       "    <tr>\n",
       "      <th>14</th>\n",
       "      <td>Corinthians</td>\n",
       "      <td>14.81</td>\n",
       "    </tr>\n",
       "    <tr>\n",
       "      <th>15</th>\n",
       "      <td>Athletico Paranaense</td>\n",
       "      <td>28.46</td>\n",
       "    </tr>\n",
       "    <tr>\n",
       "      <th>16</th>\n",
       "      <td>Red Bull Bragantino</td>\n",
       "      <td>56.53</td>\n",
       "    </tr>\n",
       "    <tr>\n",
       "      <th>17</th>\n",
       "      <td>Juventude</td>\n",
       "      <td>58.53</td>\n",
       "    </tr>\n",
       "    <tr>\n",
       "      <th>18</th>\n",
       "      <td>Cuiabá</td>\n",
       "      <td>89.09</td>\n",
       "    </tr>\n",
       "    <tr>\n",
       "      <th>19</th>\n",
       "      <td>Atlético Goianiense</td>\n",
       "      <td>97.96</td>\n",
       "    </tr>\n",
       "  </tbody>\n",
       "</table>\n",
       "</div>"
      ],
      "text/plain": [
       "                    Time  Prob.\n",
       "0               Botafogo   0.00\n",
       "1              Palmeiras   0.01\n",
       "2              Fortaleza   0.01\n",
       "3               Flamengo   0.01\n",
       "4          Internacional   0.10\n",
       "5              São Paulo   0.15\n",
       "6                  Bahia   0.29\n",
       "7               Cruzeiro   0.32\n",
       "8                  Vasco   1.11\n",
       "9       Atlético Mineiro   1.07\n",
       "10                Grêmio   1.92\n",
       "11              Criciúma   1.16\n",
       "12            Fluminense   7.79\n",
       "13               Vitória  14.63\n",
       "14           Corinthians  14.81\n",
       "15  Athletico Paranaense  28.46\n",
       "16   Red Bull Bragantino  56.53\n",
       "17             Juventude  58.53\n",
       "18                Cuiabá  89.09\n",
       "19   Atlético Goianiense  97.96"
      ]
     },
     "execution_count": 269,
     "metadata": {},
     "output_type": "execute_result"
    }
   ],
   "source": [
    "# Probabilidad de descenso de cada equipo\n",
    "tabela_2024[['Time', 'screbstd']].rename(columns={'screbstd':'Prob.'})"
   ]
  }
 ],
 "metadata": {
  "kernelspec": {
   "display_name": "Python 3 (ipykernel)",
   "language": "python",
   "name": "python3"
  },
  "language_info": {
   "codemirror_mode": {
    "name": "ipython",
    "version": 3
   },
   "file_extension": ".py",
   "mimetype": "text/x-python",
   "name": "python",
   "nbconvert_exporter": "python",
   "pygments_lexer": "ipython3",
   "version": "3.9.7"
  }
 },
 "nbformat": 4,
 "nbformat_minor": 5
}
